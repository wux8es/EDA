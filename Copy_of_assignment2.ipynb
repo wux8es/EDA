{
  "cells": [
    {
      "cell_type": "markdown",
      "metadata": {
        "id": "view-in-github",
        "colab_type": "text"
      },
      "source": [
        "<a href=\"https://colab.research.google.com/github/wux8es/EDA/blob/main/Copy_of_assignment2.ipynb\" target=\"_parent\"><img src=\"https://colab.research.google.com/assets/colab-badge.svg\" alt=\"Open In Colab\"/></a>"
      ]
    },
    {
      "cell_type": "markdown",
      "id": "13ad028b-72b7-43ed-aa78-96fd4e518040",
      "metadata": {
        "id": "13ad028b-72b7-43ed-aa78-96fd4e518040"
      },
      "source": [
        "# Assignment: Data Wrangling and Exploratory Data Analysis\n",
        "## Do Q1 and Q2, and one other question."
      ]
    },
    {
      "cell_type": "code",
      "source": [
        "! git clone https://www.github.com/wux8es/assignment2"
      ],
      "metadata": {
        "id": "e6H-X7jWcVIL",
        "colab": {
          "base_uri": "https://localhost:8080/"
        },
        "outputId": "7938243d-db60-41e8-f5ed-a2dc79267bf1"
      },
      "id": "e6H-X7jWcVIL",
      "execution_count": 1,
      "outputs": [
        {
          "output_type": "stream",
          "name": "stdout",
          "text": [
            "Cloning into 'assignment2'...\n",
            "warning: redirecting to https://github.com/wux8es/assignment2.git/\n",
            "remote: Enumerating objects: 17, done.\u001b[K\n",
            "remote: Counting objects: 100% (6/6), done.\u001b[K\n",
            "remote: Compressing objects: 100% (4/4), done.\u001b[K\n",
            "remote: Total 17 (delta 2), reused 2 (delta 2), pack-reused 11\u001b[K\n",
            "Receiving objects: 100% (17/17), 5.16 MiB | 10.51 MiB/s, done.\n",
            "Resolving deltas: 100% (2/2), done.\n"
          ]
        }
      ]
    },
    {
      "cell_type": "markdown",
      "id": "5735a4d4-8be8-433a-a351-70eb8002e632",
      "metadata": {
        "id": "5735a4d4-8be8-433a-a351-70eb8002e632"
      },
      "source": [
        "**Q1.** Open the \"tidy_data.pdf\" document in the repo, which is a paper called Tidy Data by Hadley Wickham.\n",
        "\n",
        "  1. Read the abstract. What is this paper about?\n",
        "  2. Read the introduction. What is the \"tidy data standard\" intended to accomplish?\n",
        "  3. Read the intro to section 2. What does this sentence mean: \"Like families, tidy datasets are all alike but every messy dataset is messy in its own way.\" What does this sentence mean: \"For a given dataset, it’s usually easy to figure out what are observations and what are variables, but it is surprisingly difficult to precisely define variables and observations in general.\"\n",
        "  4. Read Section 2.2. How does Wickham define values, variables, and observations?\n",
        "  5. How is \"Tidy Data\" defined in section 2.3?\n",
        "  6. Read the intro to Section 3 and Section 3.1. What are the 5 most common problems with messy datasets? Why are the data in Table 4 messy? What is \"melting\" a dataset?\n",
        "  7. Why, specifically, is table 11 messy but table 12 tidy and \"molten\"?\n",
        "  8. Read Section 6. What is the \"chicken-and-egg\" problem with focusing on tidy data? What does Wickham hope happens in the future with further work on the subject of data wrangling?"
      ]
    },
    {
      "cell_type": "markdown",
      "source": [
        "1) The paper is about \"data tidying,\" a way to make data cleaning easy and effective.\n",
        "2) It is intended to a provide a standard way to organize data without needing to \"start from scratch\" every time.\n",
        "3) There are unique ways that data sets need to be cleaned. For each case, it is easy to define what are variables and observations. For the whole data set, it is more difficult.\n",
        "4) Values are numbers or strings organized into a data set. Each value belongs to a variable and an observation. A variable contains all measurments of one attribute (like the heights of multiple people). An observation is all values measured on one unit (for example, one person).\n",
        "5) Each variable forms a column, each observation forms a row, and each type of observational unit forms a table.\n",
        "6) Column headers are values, not variable names. Multiple variables are stored in one column. Variables are stored in both rows and columns. Multiple types of observational units are stored in the same table. A single observational unit is stored in multiple tables. The columns need to be turned into rows. Melting means to reformat the data set turning the columns into rows.\n",
        "7) Because table 11 has a column for each day of the month, and is not easily comprehensible. Also, the observations are columns and should be rows. Table 12(a) is molten because the columns and rows are switched appropriately. Table 12(b) is tidy because it includes variables instead of names in the third column.\n",
        "8) \"If tidy data is only as useful as the tools that work with it, then tidy tools will be inextricably linked to tiny data.\" Wickham hopes others will use improve this framework to develop beter stroage strategies and tools."
      ],
      "metadata": {
        "id": "r8g20BFL69FQ"
      },
      "id": "r8g20BFL69FQ"
    },
    {
      "cell_type": "markdown",
      "id": "da879ea7-8aac-48a3-b6c2-daea56d2e072",
      "metadata": {
        "id": "da879ea7-8aac-48a3-b6c2-daea56d2e072"
      },
      "source": [
        "**Q2.** This question provides some practice cleaning variables which have common problems.\n",
        "1. Numeric variable: For `./data/airbnb_NYC.csv`, clean the `Price` variable as well as you can, and explain the choices you make. How many missing values do you end up with? (Hint: What happens to the formatting when a price goes over 999 dollars, say from 675 to 1,112?)\n",
        "2. Categorical variable: For the `./data/sharks.csv` data covered in the lecture, clean the \"Type\" variable as well as you can, and explain the choices you make.\n",
        "3. Dummy variable: For the pretrial data covered in the lecture, clean the `WhetherDefendantWasReleasedPretrial` variable as well as you can, and, in particular, replace missing values with `np.nan`.\n",
        "4. Missing values, not at random: For the pretrial data covered in the lecture, clean the `ImposedSentenceAllChargeInContactEvent` variable as well as you can, and explain the choices you make. (Hint: Look at the `SentenceTypeAllChargesAtConvictionInContactEvent` variable.)"
      ]
    },
    {
      "cell_type": "code",
      "source": [
        "# Part 1\n",
        "import pandas as pd\n",
        "import numpy as np\n",
        "df=pd.read_csv('./assignment2/data/airbnb_NYC.csv', encoding='latin1')\n",
        "# Remove commas\n",
        "df['Price'] = df['Price'].str.replace(',','')\n",
        "# Convert strings to integers\n",
        "df['Price'] = [int(each) for each in df['Price']]\n",
        "# I found no missing variables, looked using unique()"
      ],
      "metadata": {
        "id": "2sLV9oavcWN_"
      },
      "id": "2sLV9oavcWN_",
      "execution_count": null,
      "outputs": []
    },
    {
      "cell_type": "code",
      "source": [
        "# Part 2\n",
        "import pandas as pd\n",
        "import numpy as np\n",
        "df=pd.read_csv('./assignment2/data/sharks.csv', low_memory = False)\n",
        "# Looking for missing function using unqiue\n",
        "print(df['Type'].unique())\n",
        "# Making map for cleaning (ChatGPT helped). I am merging synonyms with eachother\n",
        "cleaning_map = {\n",
        "    'Boating': 'Watercraft',\n",
        "    'Boat': 'Watercraft',\n",
        "    'Boatomg': 'Watercraft',\n",
        "    'Sea Disaster': 'Disaster',\n",
        "    'Unverified': 'Unconfirmed'}\n",
        "# Rename values\n",
        "df['Type'] = df['Type'].replace(cleaning_map)\n",
        "print(df['Type'].unique())\n",
        "# Missing values are already market as nan, so I am ok not renaming them"
      ],
      "metadata": {
        "colab": {
          "base_uri": "https://localhost:8080/"
        },
        "id": "KT0AvRDcxfz5",
        "outputId": "a6117b79-174a-49e0-a7a7-1dd8dfe65621"
      },
      "id": "KT0AvRDcxfz5",
      "execution_count": null,
      "outputs": [
        {
          "output_type": "stream",
          "name": "stdout",
          "text": [
            "['Unprovoked' 'Provoked' 'Questionable' 'Watercraft' 'Unconfirmed'\n",
            " 'Unverified' 'Invalid' 'Under investigation' 'Boating' 'Sea Disaster' nan\n",
            " 'Boat' 'Boatomg']\n",
            "['Unprovoked' 'Provoked' 'Questionable' 'Watercraft' 'Unconfirmed'\n",
            " 'Invalid' 'Under investigation' 'Disaster' nan]\n"
          ]
        }
      ]
    },
    {
      "cell_type": "code",
      "source": [
        "# Part 3\n",
        "import pandas as pd\n",
        "import numpy as np\n",
        "# Downloaded the file and uploaded from computer. I was having trouble consistently accessing the URL.\n",
        "df = pd.read_csv('/content/October 2017 Cohort_Virginia Pretrial Data Project_Deidentified FINAL Update_10272021 (2) (1).csv',low_memory=False)\n",
        "print(df['WhetherDefendantWasReleasedPretrial'].unique())\n",
        "# Assuming that 0 means 'no' and 1 means 'yes,' I will consider 9 a missing value and replace it with np.nan\n",
        "df['WhetherDefendantWasReleasedPretrial'] = df['WhetherDefendantWasReleasedPretrial'].replace(9, 'np.nan')\n",
        "print(df['WhetherDefendantWasReleasedPretrial'].unique())\n",
        "\n"
      ],
      "metadata": {
        "id": "bXYlPwVm3K9i",
        "colab": {
          "base_uri": "https://localhost:8080/"
        },
        "outputId": "9cee9bb6-19e4-416a-f17a-42615d568f3a"
      },
      "id": "bXYlPwVm3K9i",
      "execution_count": 33,
      "outputs": [
        {
          "output_type": "stream",
          "name": "stdout",
          "text": [
            "[9 0 1]\n",
            "['np.nan' 0 1]\n"
          ]
        }
      ]
    },
    {
      "cell_type": "code",
      "source": [
        "# Part 4\n",
        "import pandas as pd\n",
        "import numpy as np\n",
        "# Comparing these two columns, it seems that the 'ImposedSentenceAllChargeInContactEvent' column should also have whole numbers\n",
        "# I rounded all numbers up and replaced missing values with np.nan\n",
        "df['ImposedSentenceAllChargeInContactEvent'] = df['ImposedSentenceAllChargeInContactEvent'].replace(' ', 'np.nan')\n",
        "\n",
        "def convert_to_int(value):\n",
        "    try:\n",
        "        return int(float(value))\n",
        "    except ValueError:\n",
        "        return value\n",
        "df['ImposedSentenceAllChargeInContactEvent'] = df['ImposedSentenceAllChargeInContactEvent'].apply(convert_to_int)\n",
        "print(df['ImposedSentenceAllChargeInContactEvent'].unique())\n",
        "\n",
        "# Chat GPT helped.\n",
        "\n"
      ],
      "metadata": {
        "colab": {
          "base_uri": "https://localhost:8080/"
        },
        "id": "wxv0DgL6WhUT",
        "outputId": "345d3441-2967-4e60-afbc-2b82a0981236"
      },
      "id": "wxv0DgL6WhUT",
      "execution_count": 46,
      "outputs": [
        {
          "output_type": "stream",
          "name": "stdout",
          "text": [
            "['np.nan' 60 12 0 36 6 24 5 120 72 11 2 84 108 300 240 180 4 96 54 44 115\n",
            " 132 48 258 34 76 111 9 3 1 35 106 8 18 480 32 93 234 732 21 7 600 43 179\n",
            " 52 30 20 192 702 14 55 53 114 68 46 102 65 200 57 117 81 22 1980 56 10 47\n",
            " 1500 40 284 118 42 162 156 105 51 246 29 75 324 360 59 66 660 78 228 62\n",
            " 86 168 23 33 720 348 1200 27 49 87 420 63 79 17 238 126 45 158 216 227\n",
            " 445 70 516 177 1752 90 1080 141 230 31 2208 69 26 140 131 344 219 101 71\n",
            " 58 67 91 155 92 207 74 518 28 237 404 551 39 15 124 176 19 482 129 88 128\n",
            " 136 50 363 288 250 107 444 205 38 264 276 173 222 144 294 336 431 450 73\n",
            " 99 127 202 89 242 1029 194 399 198 148 13 104 212 183 252 540 133 456 103\n",
            " 576 492 61 16 138 95 77 1011 188 432 98 112 354 123 204 197 174 840 440\n",
            " 172 146 64 312 82 121 41 473 109 94 302 154 83 110 226 37 286 283 165 175\n",
            " 232 152 167 119 960 116]\n"
          ]
        }
      ]
    },
    {
      "cell_type": "markdown",
      "id": "c11bcd96-2834-41a4-80fe-d354b4277fd9",
      "metadata": {
        "id": "c11bcd96-2834-41a4-80fe-d354b4277fd9"
      },
      "source": [
        "**Q3.** This question provides some practice doing exploratory data analysis and visualization.\n",
        "\n",
        "The \"relevant\" variables for this question are:\n",
        "  - `level` - Level of institution (4-year, 2-year)\n",
        "  - `aid_value` - The average amount of student aid going to undergraduate recipients\n",
        "  - `control` - Public, Private not-for-profit, Private for-profit\n",
        "  - `grad_100_value` - percentage of first-time, full-time, degree-seeking undergraduates who complete a degree or certificate program within 100 percent of expected time (bachelor's-seeking group at 4-year institutions)\n",
        "\n",
        "1. Load the `./data/college_completion.csv` data with Pandas.\n",
        "2. What are are the dimensions of the data? How many observations are there? What are the variables included? Use `.head()` to examine the first few rows of data.\n",
        "3. Cross tabulate `control` and `level`. Describe the patterns you see.\n",
        "4. For `grad_100_value`, create a histogram, kernel density plot, boxplot, and statistical description.\n",
        "5. For `grad_100_value`, create a grouped kernel density plot by `control` and by `level`. Describe what you see. Use `groupby` and `.describe` to make grouped calculations of statistical descriptions of `grad_100_value` by `level` and `control`. Which institutions appear to have the best graduation rates?\n",
        "6. Create a new variable, `df['levelXcontrol']=df['level']+', '+df['control']` that interacts level and control. Make a grouped kernel density plot. Which institutions appear to have the best graduation rates?\n",
        "7. Make a kernel density plot of `aid_value`. Notice that your graph is \"bi-modal\", having two little peaks that represent locally most common values. Now group your graph by `level` and `control`. What explains the bi-modal nature of the graph? Use `groupby` and `.describe` to make grouped calculations of statistical descriptions of `aid_value` by `level` and `control`.\n",
        "8. Make a scatterplot of `grad_100_value` by `aid_value`. Describe what you see. Now make the same plot, grouping by `level` and then `control`. Describe what you see. For which kinds of institutions does aid seem to increase graduation rates?"
      ]
    },
    {
      "cell_type": "markdown",
      "id": "98d34a3b-c21d-4dc9-a8d2-fb7686804ceb",
      "metadata": {
        "id": "98d34a3b-c21d-4dc9-a8d2-fb7686804ceb"
      },
      "source": [
        "**Q4.** This question uses the Airbnb data to practice making visualizations.\n",
        "\n",
        "  1. Load the `./data/airbnb_NYC.csv` data with Pandas. You should have cleaned the `Price` variable in question 2, and you'll need it later for this question.\n",
        "  2. What are are the dimensions of the data? How many observations are there? What are the variables included? Use `.head()` to examine the first few rows of data.\n",
        "  3. Cross tabulate `Room Type` and `Property Type`. What patterns do you see in what kinds of rentals are available? For which kinds of properties are private rooms more common than renting the entire property?\n",
        "  4. For `Price`, make a histogram, kernel density, box plot, and a statistical description of the variable. Are the data badly scaled? Are there many outliers? Use `log` to transform price into a new variable, `price_log`, and take these steps again.\n",
        "  5. Make a scatterplot of `price_log` and `Beds`. Describe what you see. Use `.groupby()` to compute a desciption of `Price` conditional on/grouped by the number of beds. Describe any patterns you see in the average price and standard deviation in prices.\n",
        "  6. Make a scatterplot of `price_log` and `Beds`, but color the graph by `Room Type` and `Property Type`. What patterns do you see? Compute a description of `Price` conditional on `Room Type` and `Property Type`. Which Room Type and Property Type have the highest prices on average? Which have the highest standard deviation? Does the mean or median appear to be a more reliable estimate of central tendency, and explain why?\n",
        "  7. We've looked a bit at this `price_log` and `Beds` scatterplot. Use seaborn to make a `jointplot` with `kind=hex`. Where are the data actually distributed? How does it affect the way you think about the plots in 5 and 6?"
      ]
    },
    {
      "cell_type": "markdown",
      "id": "649494cd-cfd6-4f80-992a-9994fc19e1d5",
      "metadata": {
        "id": "649494cd-cfd6-4f80-992a-9994fc19e1d5"
      },
      "source": [
        "**Q5.** Many important datasets contain a race variable, typically limited to a handful of values often including Black, White, Asian, Latino, and Indigenous. This question looks at data gathering efforts on this variable by the U.S. Federal government.\n",
        "\n",
        "1. How did the most recent US Census gather data on race?\n",
        "2. Why do we gather these data? What role do these kinds of data play in politics and society? Why does data quality matter?\n",
        "3. Please provide a constructive criticism of how the Census was conducted: What was done well? What do you think was missing? How should future large scale surveys be adjusted to best reflect the diversity of the population? Could some of the Census' good practices be adopted more widely to gather richer and more useful data?\n",
        "4. How did the Census gather data on sex and gender? Please provide a similar constructive criticism of their practices.\n",
        "5. When it comes to cleaning data, what concerns do you have about protected characteristics like sex, gender, sexual identity, or race? What challenges can you imagine arising when there are missing values? What good or bad practices might people adopt, and why?\n",
        "6. Suppose someone invented an algorithm to impute values for protected characteristics like race, gender, sex, or sexuality. What kinds of concerns would you have?"
      ]
    },
    {
      "cell_type": "markdown",
      "source": [
        "1. The census asked through 5 categories (Black, White, American Indian/Alaska Native, Asian, Native Hawaiian or other Pacific Islander). Respondents can also designate themselves under the “Some Other Race” category and can report more than one race.\n",
        "2. We gather these data to minimize discrimination and ensure fair treatment. These data can encourage legislation and action for a society with equal opportunity. The effectiveness and fairness of the legislation is dependent on the quality of the data.\n",
        "3. It is good we are collecting data on race, but there should be more more options when designating yourself as a specific race instead of just “Some Other Race. Within practical reason, I believe the more specific the census gets about race/gender data, the better.\n",
        "4. According to the census website, the census only asks about current sex and does not ask about gender or sexual orientation. It may be helpful to also ask about gender/sexual orientation to gather data on gender/sexual orientation trends and associations in the U.S.\n",
        "5. There may be many observations, making it it difficult to clean and organize the data. Moral judgements must be made to handle missing values. Data scientists must decide what can truly be designated as missing values, and what must be kept. Data scientists may become careless about lumping everyone’s gender and sexual characteristics together.\n",
        "6. My main concern with an algorithm like this is its purpose. Why would someone need to impute such characteristics? What are they used for? Collecting such data can have grave consequences as we have seen throughout history.\n"
      ],
      "metadata": {
        "id": "ja_M6UCmU0NT"
      },
      "id": "ja_M6UCmU0NT"
    },
    {
      "cell_type": "markdown",
      "id": "2f38f2fd-6381-481d-bba9-017f3d363426",
      "metadata": {
        "id": "2f38f2fd-6381-481d-bba9-017f3d363426"
      },
      "source": [
        "**Q6.** Open the `./data/CBO_data.pdf` file. This contains tax data for 2019, explaining where the money comes from that the U.S. Federal Government Spends in terms of taxation on individuals/families and payroll taxes (the amount that your employer pays in taxes on your wages).\n",
        "\n",
        "For some context, the Federal government ultimately spent about $4.4 trillion in 2019, which was 21% of GDP (the total monetary value of all goods and services produced within the United States). Individual Income Taxes is the amount individuals pay on their wages to the Federal government, Corporate Income Taxes is the taxes individuals pay on capital gains from investment when they sell stock or other financial instruments, Payroll Taxes is the tax your employer pays on your wages, Excises and Customs Duties are taxes on goods or services like sin taxes on cigarettes or alcohol, and Estate and Gift Taxes are taxes paid on transfers of wealth to other people.\n",
        "\n",
        "1. Get the Millions of Families and Billions of Dollars data into a .csv file and load it with Pandas.\n",
        "2. Create a bar plot of individual income taxes by income decile. Explain what the graph shows. Why are some values negative?\n",
        "3. Create a bar plot of Total Federal Taxes by income decile. Which deciles are paying net positive amounts, and which are paying net negative amounts?\n",
        "4. Create a stacked bar plot for which Total Federal Taxes is grouped by Individual Income Taxes, Payroll Taxes, Excises and Customs Duties, and Estate and Gift Taxes. How does the share of taxes paid vary across the adjusted income deciles? (Hint: Are these the kind of data you want to melt?)\n",
        "5. Below the Total line for Millions of Families and Billions of Dollars, there are data for the richest of the richest families. Plot this alongside the bars for the deciles above the Total line. Describe your results.\n",
        "6. Get the Percent Distribution data into a .csv file and load it with Pandas. Create a bar graph of Total Federal Taxes by income decile.\n",
        "7. A tax system is progressive if higher-income and wealthier individuals pay more than lower-income and less wealthy individuals, and it is regressive if the opposite is true. Is the U.S. tax system progressive in terms of amount paid? In terms of the percentage of the overall total?\n",
        "8. Do the rich pay enough in taxes? Defend your answer."
      ]
    }
  ],
  "metadata": {
    "kernelspec": {
      "display_name": "Python 3 (ipykernel)",
      "language": "python",
      "name": "python3"
    },
    "language_info": {
      "codemirror_mode": {
        "name": "ipython",
        "version": 3
      },
      "file_extension": ".py",
      "mimetype": "text/x-python",
      "name": "python",
      "nbconvert_exporter": "python",
      "pygments_lexer": "ipython3",
      "version": "3.10.4"
    },
    "colab": {
      "provenance": [],
      "include_colab_link": true
    }
  },
  "nbformat": 4,
  "nbformat_minor": 5
}